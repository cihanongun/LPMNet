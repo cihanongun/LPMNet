{
 "cells": [
  {
   "cell_type": "code",
   "execution_count": null,
   "metadata": {},
   "outputs": [],
   "source": [
    "import numpy as np\n",
    "import utils\n",
    "import matplotlib.pyplot as plt\n",
    "%matplotlib inline\n",
    "import torch"
   ]
  },
  {
   "cell_type": "code",
   "execution_count": null,
   "metadata": {},
   "outputs": [],
   "source": [
    "batch_size = 256\n",
    "log_folder = \"logs/\" # folder path to save the results\n",
    "latent_size = 128 # bottleneck size of the Autoencoder model\n",
    "\n",
    "category = \"Chair\"\n",
    "n_points = 2048"
   ]
  },
  {
   "cell_type": "code",
   "execution_count": null,
   "metadata": {},
   "outputs": [],
   "source": [
    "from data.load_dataset import get_dataset\n",
    "from torch.utils.data import TensorDataset, DataLoader\n",
    "\n",
    "test_set = get_dataset(category, \"test\", n_points)\n",
    "\n",
    "part_count = int(test_set.max())\n",
    "\n",
    "print(\"Test set shape :\" + str(test_set.shape))\n",
    "print(\"Number of points : \" + str(n_points))\n",
    "print(\"Part count : \" + str(part_count))\n",
    "\n",
    "test_tensor = torch.from_numpy(test_set).float()\n",
    "\n",
    "test_loader = DataLoader(dataset=test_tensor, batch_size=batch_size, shuffle=True, pin_memory=True)"
   ]
  },
  {
   "cell_type": "code",
   "execution_count": null,
   "metadata": {},
   "outputs": [],
   "source": [
    "model = torch.load(log_folder + \"model_save\")\n",
    "device = torch.device(\"cuda:0\") if torch.cuda.is_available() else torch.device(\"cpu\")\n",
    "model = model.to(device)\n",
    "model.eval()\n",
    "model"
   ]
  },
  {
   "cell_type": "code",
   "execution_count": null,
   "metadata": {},
   "outputs": [],
   "source": [
    "def reconstruct(data):\n",
    "    with torch.no_grad():\n",
    "        points = data[:,:,0:3].to(device)\n",
    "        _, decoded = model(points)\n",
    "        seg_results , _ = model(decoded)\n",
    "        seg_labels = seg_results.argmax(dim=2,keepdim=True)\n",
    "       \n",
    "        output = torch.cat([decoded, seg_labels.float()],2)\n",
    "        return output.cpu().detach().numpy()"
   ]
  },
  {
   "cell_type": "code",
   "execution_count": null,
   "metadata": {},
   "outputs": [],
   "source": [
    "def segmentall(pc):\n",
    "    \n",
    "    t_data = torch.cat([pc, torch.zeros([pc.shape[0],n_points,1]).to(pc.device)],2)\n",
    "\n",
    "    seg_results, output = model(t_data.to(device))\n",
    "        \n",
    "    seg_labels = seg_results.argmax(dim=2,keepdim=True).squeeze()\n",
    "        \n",
    "    t_data[:,:,3] = seg_labels\n",
    "    \n",
    "    return t_data.cpu().detach().numpy()"
   ]
  },
  {
   "cell_type": "code",
   "execution_count": null,
   "metadata": {},
   "outputs": [],
   "source": [
    "test_samples = next(iter(test_loader)) # random samples\n",
    "test_output = reconstruct(test_samples)\n",
    "utils.plotPC([test_samples.numpy(),test_output])"
   ]
  },
  {
   "cell_type": "code",
   "execution_count": null,
   "metadata": {},
   "outputs": [],
   "source": [
    "sample1 = 0\n",
    "sample2 = 1\n",
    "with torch.no_grad():\n",
    "    \n",
    "    point_features = model.get_point_features(test_samples.to(device))\n",
    "    seg_results = model.segment(point_features)\n",
    "    part_features = model.get_part_features(point_features, seg_results)\n",
    "    global_feature = torch.max(part_features, 1)[0]\n",
    "    \n",
    "    latent_interpolation = utils.interpolateArray(global_feature[sample1],global_feature[sample2],9)\n",
    "    decoded = model.decode(latent_interpolation)\n",
    "    segmented = segmentall(decoded)\n",
    "utils.plotPC(segmented)"
   ]
  }
 ],
 "metadata": {
  "kernelspec": {
   "display_name": "Python 3",
   "language": "python",
   "name": "python3"
  },
  "language_info": {
   "codemirror_mode": {
    "name": "ipython",
    "version": 3
   },
   "file_extension": ".py",
   "mimetype": "text/x-python",
   "name": "python",
   "nbconvert_exporter": "python",
   "pygments_lexer": "ipython3",
   "version": "3.6.9"
  }
 },
 "nbformat": 4,
 "nbformat_minor": 4
}
